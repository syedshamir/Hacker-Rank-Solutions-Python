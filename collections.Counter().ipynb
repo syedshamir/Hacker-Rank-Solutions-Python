{
 "cells": [
  {
   "cell_type": "code",
   "execution_count": 1,
   "id": "ca01f7bf",
   "metadata": {},
   "outputs": [],
   "source": [
    "#https://www.hackerrank.com/challenges/collections-counter/problem\n",
    "#collections.Counter()\n",
    "#A counter is a container that stores elements as dictionary keys, and their counts are stored as dictionary values\n",
    "\n",
    "#myList = [1,1,2,3,4,5,3,2,3,4,2,1,2,3]\n",
    "#print Counter(myList)\n",
    "#Counter({2: 4, 3: 4, 1: 3, 4: 2, 5: 1})"
   ]
  },
  {
   "cell_type": "code",
   "execution_count": null,
   "id": "79c31abe",
   "metadata": {},
   "outputs": [],
   "source": [
    "from collections import Counter"
   ]
  },
  {
   "cell_type": "code",
   "execution_count": 13,
   "id": "4d9a7e72",
   "metadata": {},
   "outputs": [
    {
     "name": "stdout",
     "output_type": "stream",
     "text": [
      "10\n"
     ]
    }
   ],
   "source": [
    "n_shoes = int(input()) #the number of shoes\n",
    "money = 0"
   ]
  },
  {
   "cell_type": "code",
   "execution_count": 14,
   "id": "717ebd47",
   "metadata": {},
   "outputs": [
    {
     "name": "stdout",
     "output_type": "stream",
     "text": [
      "2 3 4 5 6 8 7 6 5 18\n"
     ]
    }
   ],
   "source": [
    "list_of_shoe_sizes = input().split()"
   ]
  },
  {
   "cell_type": "code",
   "execution_count": 15,
   "id": "ec1e05a7",
   "metadata": {},
   "outputs": [
    {
     "data": {
      "text/plain": [
       "Counter({'2': 1, '3': 1, '4': 1, '5': 2, '6': 2, '8': 1, '7': 1, '18': 1})"
      ]
     },
     "execution_count": 15,
     "metadata": {},
     "output_type": "execute_result"
    }
   ],
   "source": [
    "size_and_quantity = Counter(list_of_shoe_sizes)\n",
    "size_and_quantity"
   ]
  },
  {
   "cell_type": "code",
   "execution_count": 16,
   "id": "901d1089",
   "metadata": {},
   "outputs": [
    {
     "name": "stdout",
     "output_type": "stream",
     "text": [
      "6\n"
     ]
    }
   ],
   "source": [
    "no_of_customers = int(input())"
   ]
  },
  {
   "cell_type": "code",
   "execution_count": 17,
   "id": "8649d09b",
   "metadata": {},
   "outputs": [
    {
     "name": "stdout",
     "output_type": "stream",
     "text": [
      "6 55\n",
      "6 45\n",
      "6 55\n",
      "4 40\n",
      "18 60\n",
      "10 50\n"
     ]
    }
   ],
   "source": [
    "\n",
    "for _ in range(no_of_customers):\n",
    "    size, price = input().split()\n",
    "    if size_and_quantity[size] > 0:\n",
    "        size_and_quantity[size]-=1\n",
    "        money+=int(price)      \n",
    "        "
   ]
  },
  {
   "cell_type": "code",
   "execution_count": 18,
   "id": "50d811f4",
   "metadata": {},
   "outputs": [
    {
     "name": "stdout",
     "output_type": "stream",
     "text": [
      "200\n"
     ]
    }
   ],
   "source": [
    "print(money)"
   ]
  },
  {
   "cell_type": "code",
   "execution_count": null,
   "id": "2113fb92",
   "metadata": {},
   "outputs": [],
   "source": []
  }
 ],
 "metadata": {
  "kernelspec": {
   "display_name": "Python 3 (ipykernel)",
   "language": "python",
   "name": "python3"
  },
  "language_info": {
   "codemirror_mode": {
    "name": "ipython",
    "version": 3
   },
   "file_extension": ".py",
   "mimetype": "text/x-python",
   "name": "python",
   "nbconvert_exporter": "python",
   "pygments_lexer": "ipython3",
   "version": "3.9.13"
  }
 },
 "nbformat": 4,
 "nbformat_minor": 5
}
